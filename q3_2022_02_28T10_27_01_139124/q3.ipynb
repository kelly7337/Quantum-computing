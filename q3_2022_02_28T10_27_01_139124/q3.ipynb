{
 "cells": [
  {
   "cell_type": "code",
   "execution_count": 1,
   "id": "fadc75f7",
   "metadata": {
    "deletable": false,
    "editable": false
   },
   "outputs": [],
   "source": [
    "# Initialize Otter\n",
    "import otter\n",
    "grader = otter.Notebook(\"q3.ipynb\")"
   ]
  },
  {
   "cell_type": "markdown",
   "id": "536b01d6",
   "metadata": {},
   "source": [
    "# Qiskit Assignment 3\n",
    "## Multiple Qubits, Entanglement, and Teleportation\n",
    "\n",
    "### Learning Objectives\n",
    "1. Understand the role of endianness in multi-qubit quantum circuits\n",
    "2. Construct circuits with multiple qubits and entangled states\n",
    "3. Solve a teleportation scenario\n",
    "\n",
    "### Resources\n",
    "Qiskit assignments are designed to be collaborative and open internet. Where possible, links to useful documentation will be embedded within questions. You're free to discuss these tasks with TAs and peers, but do write your own solutions. For some questions, there may be additional restrictions on the ways you can solve them. To ensure compliance with course policies and assignment instructions, we reserve the right to inspect your code."
   ]
  },
  {
   "cell_type": "markdown",
   "id": "9ce5068e",
   "metadata": {},
   "source": [
    "**NAME**: Ermu Lu\n",
    "\n",
    "**STUDENT ID**: 502043"
   ]
  },
  {
   "cell_type": "code",
   "execution_count": 2,
   "id": "fe92279c",
   "metadata": {},
   "outputs": [],
   "source": [
    "# Import Qiskit and other needed packages\n",
    "from qiskit import *\n",
    "from qiskit.visualization import plot_histogram\n",
    "from qiskit.quantum_info import Statevector\n",
    "from qiskit_textbook.tools import array_to_latex\n",
    "import matplotlib.pyplot as plt\n",
    "import random\n",
    "import numpy as np\n",
    "import pprint"
   ]
  },
  {
   "cell_type": "markdown",
   "id": "374c347b",
   "metadata": {},
   "source": [
    "#### Task 1 - Endianness and Multi-Qubit Circuits (10 pts)"
   ]
  },
  {
   "cell_type": "markdown",
   "id": "49fb3b49",
   "metadata": {},
   "source": [
    "Qiskit uses a little endian convention for qubit ordering different from many textbooks and the lecture slides. Let's consider a circuit in the state $$\\Psi=|0001\\rangle$$\n",
    "\n",
    "According to the convention used in lecture, the least significant qubit of the circuit, $q_0$, is in the state of the leftmost digit of $\\Psi$, $|0\\rangle$. In general, a state can be represented as $$|q_0,q_1,...,q_{n-1},q_n\\rangle$$\n",
    "\n",
    "Qiskit, however, interprets the rightmost digit, $|1\\rangle$, as the state of the least significant qubit. This is the standard ordering of binary bitstrings, but it leads to a non-standard tensor product order ([source](https://qiskit.org/documentation/tutorials/circuits/1_getting_started_with_qiskit.html#OpenQASM-backend)). Hence, the general form of the Qiskit ordering goes $$|q_n,q_{n-1},...,q_1,q_0\\rangle$$\n",
    "\n",
    "We want to utilize the power of Qiskit for building and running quantum circuits while also remaining consistent with our notation and tensor product math. For this class, we'll stick to the big endian ordering. Qiskit provides two functions that can help.\n",
    "\n",
    "We can use the [`reverse_bits`](https://qiskit.org/documentation/stubs/qiskit.circuit.QuantumCircuit.reverse_bits.html#qiskit.circuit.QuantumCircuit.reverse_bits) method to return a quantum circuit with qubit ordering flipped completely. Recall that we used this method in the first qiskit assignment.\n",
    "- Pros: good for running a job and displaying the counts and/or histogram in big endian notation\n",
    "- Cons: returns a new vertically flipped circuit which may be disorienting\n",
    "\n",
    "We can also use the Statevector class's [`reverse_qargs`](https://qiskit.org/documentation/stubs/qiskit.quantum_info.Statevector.reverse_qargs.html#qiskit-quantum-info-statevector-reverse-qargs) method to display the state of a multi-qubit circuit in big endian notation.\n",
    "- Pros: preserves original form of the circuit\n",
    "- Cons: not useful for displaying big endian counts in job results or a histogram"
   ]
  },
  {
   "cell_type": "markdown",
   "id": "43b76341",
   "metadata": {},
   "source": [
    "To check your understanding of qubit ordering in Qiskit, consider the following code which returns a circuit and its resulting statevector.\n",
    "- modify the code such that `ket` is returned in big endian form without adding or modifying gates\n",
    "- hints: \n",
    " - what is the little endian state returned by the original code?\n",
    " - what is the corresponding big endian state?"
   ]
  },
  {
   "cell_type": "code",
   "execution_count": 3,
   "id": "9e1fb711",
   "metadata": {
    "scrolled": true,
    "tags": []
   },
   "outputs": [
    {
     "data": {
      "text/latex": [
       "$\\displaystyle \n",
       "\\text{Task 1 SV} = \\begin{bmatrix}\n",
       "0 \\\\\n",
       "\\tfrac{1}{\\sqrt{2}} \\\\\n",
       "0 \\\\\n",
       "\\tfrac{1}{\\sqrt{2}}\n",
       "\\end{bmatrix}\n",
       "$"
      ],
      "text/plain": [
       "<IPython.core.display.Math object>"
      ]
     },
     "metadata": {},
     "output_type": "display_data"
    }
   ],
   "source": [
    "def endianness():\n",
    "    qc = QuantumCircuit(2,2)\n",
    "    qc.h(0)\n",
    "    qc.x(1)\n",
    "    ket = Statevector.from_instruction(qc)\n",
    "    ket = Statevector.reverse_qargs(ket)\n",
    "    return qc, ket\n",
    "\n",
    "array_to_latex(endianness()[1], pretext=\"\\\\text{Task 1 SV} = \")"
   ]
  },
  {
   "cell_type": "code",
   "execution_count": 4,
   "id": "706d4bd9",
   "metadata": {
    "deletable": false,
    "editable": false
   },
   "outputs": [
    {
     "data": {
      "text/html": [
       "<p><strong><pre style='display: inline;'>Task 1</pre></strong> passed!</p>"
      ],
      "text/plain": [
       "Task 1 results: All test cases passed!"
      ]
     },
     "execution_count": 4,
     "metadata": {},
     "output_type": "execute_result"
    }
   ],
   "source": [
    "grader.check(\"Task 1\")"
   ]
  },
  {
   "cell_type": "markdown",
   "id": "e201a7d9",
   "metadata": {},
   "source": [
    "#### Task 2 (2A, 2B) - Multiple Qubit Circuits (30 pts)\n",
    "\n",
    "#### Task 2A\n",
    "- run the following cell\n",
    "- return a circuit from `multi_qubit_a` that produces the following target state on measurement\n",
    "- note:\n",
    " - it's fine if the resulting state is only equivalent up to a global phase\n",
    " - your qubits must start in $|00\\rangle$ i.e. no initializations are allowed"
   ]
  },
  {
   "cell_type": "markdown",
   "id": "13a64ec4",
   "metadata": {
    "scrolled": true
   },
   "source": [
    "array_to_latex([-1j/2, 1/2, -1/2, -1j/2], pretext=\"\\\\text{2A Target Statevector} = \")"
   ]
  },
  {
   "cell_type": "code",
   "execution_count": 5,
   "id": "6d0178f9",
   "metadata": {
    "tags": []
   },
   "outputs": [
    {
     "data": {
      "image/png": "[encoded data removed]",
      "text/plain": [
       "<Figure size 327.252x204.68 with 1 Axes>"
      ]
     },
     "execution_count": 5,
     "metadata": {},
     "output_type": "execute_result"
    }
   ],
   "source": [
    "def multi_qubit_a():\n",
    "    qc = QuantumCircuit(2, 2)\n",
    "    qc.rx(np.pi/2, 0)\n",
    "    qc.x(1)\n",
    "    qc.rx(np.pi/2, 1)\n",
    "    qc.measure([0, 1], [0, 1])\n",
    "    return qc\n",
    "    \n",
    "\n",
    "multi_qubit_a().draw(output='mpl')"
   ]
  },
  {
   "cell_type": "code",
   "execution_count": 6,
   "id": "9de2b2f0",
   "metadata": {
    "deletable": false,
    "editable": false
   },
   "outputs": [
    {
     "data": {
      "text/html": [
       "<p><strong><pre style='display: inline;'>Task 2A</pre></strong> passed!</p>"
      ],
      "text/plain": [
       "Task 2A results: All test cases passed!"
      ]
     },
     "execution_count": 6,
     "metadata": {},
     "output_type": "execute_result"
    }
   ],
   "source": [
    "grader.check(\"Task 2A\")"
   ]
  },
  {
   "cell_type": "markdown",
   "id": "1a1a8044",
   "metadata": {},
   "source": [
    "#### Task 2B\n",
    "- run the following cell\n",
    "- return a circuit from `multi_qubit_b` that produces the following target state on measurement\n",
    "- note:\n",
    " - it's okay if your resulting state is equivalent up to a global phase\n",
    " - your qubits must start in state $|00\\rangle$ i.e. no initializations are allowed."
   ]
  },
  {
   "cell_type": "code",
   "execution_count": 7,
   "id": "f487a904",
   "metadata": {},
   "outputs": [
    {
     "data": {
      "text/latex": [
       "$\\displaystyle \n",
       "\\text{2B Target Statevector} = \\begin{bmatrix}\n",
       "\\tfrac{1}{\\sqrt{2}} \\\\\n",
       "0 \\\\\n",
       "0 \\\\\n",
       "-\\tfrac{1}{\\sqrt{2}}\n",
       "\\end{bmatrix}\n",
       "$"
      ],
      "text/plain": [
       "<IPython.core.display.Math object>"
      ]
     },
     "metadata": {},
     "output_type": "display_data"
    }
   ],
   "source": [
    "array_to_latex([1/(2**(.5)), 0, 0, -1/(2**(.5))], pretext=\"\\\\text{2B Target Statevector} = \")"
   ]
  },
  {
   "cell_type": "code",
   "execution_count": 8,
   "id": "580a3ad3",
   "metadata": {
    "tags": []
   },
   "outputs": [
    {
     "data": {
      "image/png": "[encoded data removed]",
      "text/plain": [
       "<Figure size 387.452x204.68 with 1 Axes>"
      ]
     },
     "execution_count": 8,
     "metadata": {},
     "output_type": "execute_result"
    }
   ],
   "source": [
    "def multi_qubit_b():\n",
    "    qc = QuantumCircuit(2,2)\n",
    "    qc.h(0)\n",
    "    qc.z(0)\n",
    "    qc.cx(0, 1)\n",
    "    qc.measure([0, 1], [0, 1])\n",
    "    return qc\n",
    "    \n",
    "\n",
    "\n",
    "multi_qubit_b().draw(output='mpl')"
   ]
  },
  {
   "cell_type": "code",
   "execution_count": 9,
   "id": "16be4d6f",
   "metadata": {
    "deletable": false,
    "editable": false
   },
   "outputs": [
    {
     "data": {
      "text/html": [
       "<p><strong><pre style='display: inline;'>Task 2B</pre></strong> passed!</p>"
      ],
      "text/plain": [
       "Task 2B results: All test cases passed!"
      ]
     },
     "execution_count": 9,
     "metadata": {},
     "output_type": "execute_result"
    }
   ],
   "source": [
    "grader.check(\"Task 2B\")"
   ]
  },
  {
   "cell_type": "markdown",
   "id": "7b3d7ae7",
   "metadata": {},
   "source": [
    "<!-- BEGIN QUESTION -->\n",
    "\n",
    "#### Task 3 (3A, 3B) - What's in the box? (30 pts)\n",
    "\n",
    "For Tasks 3A and 3B, devise quantum circuitry around the box (i.e. outside the barriers) such that a measurement tells you the contents of the box, without fail.\n",
    "\n",
    "You are given a quantum box with a gate in it.  There is a promise that it is one gate or the other.   Devise circuitry around the box so that with one measurement you are certain which of the two gates is in the box.\n",
    "\n",
    "#### Task 3A\n",
    "\n",
    "The oracle promises to be **I** or **Z**.\n",
    "\n",
    "**README**: \n",
    "- Your solutions to 3A and 3B may not use conditional statements to dynamically pick gates according to the input or otherwise attempt to influence the oracle. In other words, the only gate that may vary between runs is the oracle. \n",
    "- Do not use the parameter `r` in any code you write. \n",
    "- Do not use initialize. You only need to add familiar gates to complete these tasks\n",
    "\n",
    "Solutions not adhering to these guidelines will not receive credit. As usual, we reserve the right to manually inspect your code."
   ]
  },
  {
   "cell_type": "code",
   "execution_count": 10,
   "id": "614bd5c4",
   "metadata": {
    "tags": []
   },
   "outputs": [],
   "source": [
    "def oracle_a(qc, r=None):\n",
    "    if r is None:\n",
    "        r = random.uniform(0, 1)\n",
    "    qc.id(0) if r > 0.5 else qc.z(0)\n",
    "    return qc\n",
    "\n",
    "def whats_in_box_a(r=None):\n",
    "    qc = QuantumCircuit(1, 1)\n",
    "    \n",
    "    qc.u(np.pi/2, 0, 0, 0)\n",
    "    \n",
    "    qc.barrier()\n",
    "    qc = oracle_a(qc,r)\n",
    "    qc.barrier()\n",
    "    \n",
    "    qc.u(np.pi/2, 0, 0, 0)\n",
    "    \n",
    "    qc.measure(0,0)\n",
    "    return qc"
   ]
  },
  {
   "cell_type": "markdown",
   "id": "afb692a1",
   "metadata": {},
   "source": [
    "Use the following cells to verify your implementation is working as expected. Do **not** modify the cells below, though you may run them as much as you'd like."
   ]
  },
  {
   "cell_type": "code",
   "execution_count": 11,
   "id": "c3fa1dfc",
   "metadata": {},
   "outputs": [
    {
     "data": {
      "image/png": "[encoded data removed]",
      "text/plain": [
       "<Figure size 434.526x144.48 with 1 Axes>"
      ]
     },
     "execution_count": 11,
     "metadata": {},
     "output_type": "execute_result"
    }
   ],
   "source": [
    "qc3a = whats_in_box_a()\n",
    "qc3a.draw(output='mpl')"
   ]
  },
  {
   "cell_type": "code",
   "execution_count": 12,
   "id": "90b45242",
   "metadata": {},
   "outputs": [
    {
     "data": {
      "text/latex": [
       "$\\displaystyle \n",
       "\\text{3A last run} = \\begin{bmatrix}\n",
       "0 \\\\\n",
       "1\n",
       "\\end{bmatrix}\n",
       "$"
      ],
      "text/plain": [
       "<IPython.core.display.Math object>"
      ]
     },
     "metadata": {},
     "output_type": "display_data"
    }
   ],
   "source": [
    "qc3a.remove_final_measurements()\n",
    "array_to_latex(Statevector.from_instruction(qc3a).reverse_qargs(), pretext=\"\\\\text{3A last run} = \")"
   ]
  },
  {
   "cell_type": "code",
   "execution_count": 13,
   "id": "5773ff5b",
   "metadata": {},
   "outputs": [
    {
     "data": {
      "image/png": "[encoded data removed]",
      "text/plain": [
       "<Figure size 504x360 with 1 Axes>"
      ]
     },
     "execution_count": 13,
     "metadata": {},
     "output_type": "execute_result"
    }
   ],
   "source": [
    "sim = BasicAer.get_backend(\"qasm_simulator\")\n",
    "job = execute(whats_in_box_a(.2), sim, shots=50)\n",
    "counts = job.result().get_counts()\n",
    "for state in ['0','1']:\n",
    "    if state not in counts:\n",
    "        counts[state] = 0\n",
    "plot_histogram(counts, title=\"Z is in the Box\")"
   ]
  },
  {
   "cell_type": "code",
   "execution_count": 14,
   "id": "bcb89662",
   "metadata": {},
   "outputs": [
    {
     "data": {
      "image/png": "[encoded data removed]",
      "text/plain": [
       "<Figure size 504x360 with 1 Axes>"
      ]
     },
     "execution_count": 14,
     "metadata": {},
     "output_type": "execute_result"
    }
   ],
   "source": [
    "job = execute(whats_in_box_a(.7), sim, shots=50)\n",
    "counts = job.result().get_counts()\n",
    "for state in ['0','1']:\n",
    "    if state not in counts:\n",
    "        counts[state] = 0\n",
    "plot_histogram(counts, title=\"I is in the Box\")"
   ]
  },
  {
   "cell_type": "markdown",
   "id": "c7915024",
   "metadata": {},
   "source": [
    "<!-- END QUESTION -->\n",
    "\n",
    "<!-- BEGIN QUESTION -->\n",
    "\n",
    "#### Task 3B\n",
    "The oracle promises to be **I**, **X**, **Y**, or **Z**.\n",
    "\n",
    "Review the rules from 3A if it isn't clear what's allowed here."
   ]
  },
  {
   "cell_type": "code",
   "execution_count": 15,
   "id": "c2880ddc",
   "metadata": {
    "tags": []
   },
   "outputs": [],
   "source": [
    "def oracle_b(qc, r=None):\n",
    "    if r is None:\n",
    "        r = random.uniform(0, 1)\n",
    "    if r < 0.25:\n",
    "        qc.i(0)\n",
    "        qc.i(1)\n",
    "    elif r < 0.5:\n",
    "        qc.x(0)\n",
    "        qc.x(1)\n",
    "    elif r < 0.75:\n",
    "        qc.y(0)\n",
    "        qc.y(1)\n",
    "    else:\n",
    "        qc.z(0)\n",
    "        qc.z(1)\n",
    "    return qc\n",
    "\n",
    "def whats_in_box_b(r=None):\n",
    "    qc = QuantumCircuit(2, 2)\n",
    "    \n",
    "    qc.u(np.pi/2, 0, 0, 0)\n",
    "    \n",
    "    qc.barrier()\n",
    "    qc = oracle_b(qc,r)\n",
    "    qc.barrier()\n",
    "    \n",
    "    qc.u(np.pi/2, 0, 0, 0)\n",
    "    \n",
    "    qc.measure(0,0)\n",
    "    qc.measure(1,1)\n",
    "    return qc"
   ]
  },
  {
   "cell_type": "markdown",
   "id": "84b7370d",
   "metadata": {},
   "source": [
    "Use the following cells to verify your implementation is working as expected. Do **not** modify the cells below, though you may run them as much as you'd like."
   ]
  },
  {
   "cell_type": "code",
   "execution_count": 16,
   "id": "251d1b4f",
   "metadata": {},
   "outputs": [
    {
     "data": {
      "image/png": "[encoded data removed]",
      "text/plain": [
       "<Figure size 447.652x204.68 with 1 Axes>"
      ]
     },
     "execution_count": 16,
     "metadata": {},
     "output_type": "execute_result"
    }
   ],
   "source": [
    "qc3b = whats_in_box_b()\n",
    "qc3b.draw(output='mpl')"
   ]
  },
  {
   "cell_type": "code",
   "execution_count": 17,
   "id": "47e913b1",
   "metadata": {
    "scrolled": true
   },
   "outputs": [
    {
     "data": {
      "text/latex": [
       "$\\displaystyle \n",
       "\\text{3B last run} = \\begin{bmatrix}\n",
       "0 \\\\\n",
       "0 \\\\\n",
       "0 \\\\\n",
       "1\n",
       "\\end{bmatrix}\n",
       "$"
      ],
      "text/plain": [
       "<IPython.core.display.Math object>"
      ]
     },
     "metadata": {},
     "output_type": "display_data"
    }
   ],
   "source": [
    "qc3b.remove_final_measurements()\n",
    "array_to_latex(Statevector.from_instruction(qc3b).reverse_qargs(), pretext=\"\\\\text{3B last run} = \")"
   ]
  },
  {
   "cell_type": "code",
   "execution_count": 18,
   "id": "0664e345",
   "metadata": {},
   "outputs": [
    {
     "data": {
      "image/png": "[encoded data removed]",
      "text/plain": [
       "<Figure size 504x360 with 1 Axes>"
      ]
     },
     "execution_count": 18,
     "metadata": {},
     "output_type": "execute_result"
    }
   ],
   "source": [
    "sim = BasicAer.get_backend(\"qasm_simulator\")\n",
    "job = execute(whats_in_box_b(.1).reverse_bits(), sim, shots=50)\n",
    "counts = job.result().get_counts()\n",
    "for state in ['00','01','10','11']:\n",
    "    if state not in counts:\n",
    "        counts[state] = 0\n",
    "plot_histogram(counts, title=\"I is in the Box\")"
   ]
  },
  {
   "cell_type": "code",
   "execution_count": 19,
   "id": "903a9540",
   "metadata": {},
   "outputs": [
    {
     "data": {
      "image/png": "[encoded data removed]",
      "text/plain": [
       "<Figure size 504x360 with 1 Axes>"
      ]
     },
     "execution_count": 19,
     "metadata": {},
     "output_type": "execute_result"
    }
   ],
   "source": [
    "job = execute(whats_in_box_b(.3).reverse_bits(), sim, shots=50)\n",
    "counts = job.result().get_counts()\n",
    "for state in ['00','01','10','11']:\n",
    "    if state not in counts:\n",
    "        counts[state] = 0\n",
    "plot_histogram(counts, title=\"X is in the Box\")"
   ]
  },
  {
   "cell_type": "code",
   "execution_count": 20,
   "id": "13c6ae96",
   "metadata": {},
   "outputs": [
    {
     "data": {
      "image/png": "[encoded data removed]",
      "text/plain": [
       "<Figure size 504x360 with 1 Axes>"
      ]
     },
     "execution_count": 20,
     "metadata": {},
     "output_type": "execute_result"
    }
   ],
   "source": [
    "job = execute(whats_in_box_b(.6).reverse_bits(), sim, shots=50)\n",
    "counts = job.result().get_counts()\n",
    "for state in ['00','01','10','11']:\n",
    "    if state not in counts:\n",
    "        counts[state] = 0\n",
    "plot_histogram(counts, title=\"Y is in the Box\")"
   ]
  },
  {
   "cell_type": "code",
   "execution_count": 21,
   "id": "3f4646f8",
   "metadata": {},
   "outputs": [
    {
     "data": {
      "image/png": "[encoded data removed]",
      "text/plain": [
       "<Figure size 504x360 with 1 Axes>"
      ]
     },
     "execution_count": 21,
     "metadata": {},
     "output_type": "execute_result"
    }
   ],
   "source": [
    "job = execute(whats_in_box_b(.9).reverse_bits(), sim, shots=50)\n",
    "counts = job.result().get_counts()\n",
    "for state in ['00','01','10','11']:\n",
    "    if state not in counts:\n",
    "        counts[state] = 0\n",
    "plot_histogram(counts, title=\"Z is in the Box\")"
   ]
  },
  {
   "cell_type": "markdown",
   "id": "c1d8c57a",
   "metadata": {},
   "source": [
    "<!-- END QUESTION -->\n",
    "\n",
    "#### Task 4 (4A, 4B) - Teleportation (30 pts)\n",
    "In lecture 10, we discussed how states may be sent between Alice and Bob even when they are separated by an arbitrary distance using the power of teleportation...spooky!\n",
    "\n",
    "We'll revisit that experiment. This time, we'll start with a different bell state. Specifically, the EPR pair will be created as $$|\\Psi^+\\rangle = \\frac{|01\\rangle+|10\\rangle}{\\sqrt{2}}$$. \n",
    "\n",
    "#### Task 4A\n",
    "Given partial circuitry for teleportation, your task is to play the role of Bob and apply the correct transformations to recover the states sent by Alice. Fill in `bobs_operations` below with the logic necessary to recover Alice's teleported state.\n",
    "\n",
    "Hints: \n",
    "- Use [Qiskit's c_if gate](https://qiskit.org/documentation/stubs/qiskit.circuit.Gate.c_if.html#qiskit-circuit-gate-c-if)\n",
    "- You may reference [Qiskit's implementation](https://qiskit.org/textbook/ch-algorithms/teleportation.html) of standard teleportation"
   ]
  },
  {
   "cell_type": "code",
   "execution_count": 22,
   "id": "ffc177d7",
   "metadata": {
    "tags": []
   },
   "outputs": [
    {
     "data": {
      "image/png": "[encoded data removed]",
      "text/plain": [
       "<Figure size 1063.79x385.28 with 1 Axes>"
      ]
     },
     "execution_count": 22,
     "metadata": {},
     "output_type": "execute_result"
    }
   ],
   "source": [
    "def teleport(u_gate_params=[0,0,0]):\n",
    "    qr = QuantumRegister(3, name=\"q\")\n",
    "    bit0 = ClassicalRegister(1, name=\"bit0\")\n",
    "    bit1 = ClassicalRegister(1, name=\"bit1\")\n",
    "    res = ClassicalRegister(1, name=\"res\")\n",
    "    qc = QuantumCircuit(qr, bit0, bit1, res)\n",
    "    # create EPR pair between Alice and Bob\n",
    "    qc.h(1)\n",
    "    qc.cx(1,2)\n",
    "    qc.x(2)\n",
    "    qc.barrier()\n",
    "    # Alice prepares a state to teleport--assuming she doesn't know the parameters\n",
    "    qc.u(*u_gate_params,0)\n",
    "    qc.barrier()\n",
    "    # Alice transforms for measurement\n",
    "    qc.cx(0,1)\n",
    "    qc.h(0)\n",
    "    qc.barrier()\n",
    "    # Alice performs measurements and sends values to Bob via classical channel\n",
    "    qc.measure(0,0)\n",
    "    qc.measure(1,1)\n",
    "    qc.barrier()\n",
    "    # Bob performs conditional operations based on classical bits\n",
    "    qc = bobs_operations(qc)\n",
    "    qc.barrier()\n",
    "    # measure on Bob's transformed state\n",
    "    qc.measure(2,2)\n",
    "    return qc\n",
    "\n",
    "def bobs_operations(qc):\n",
    "    # here's the classical bits sent from Alice\n",
    "    bit_0 = qc.cregs[0]\n",
    "    bit_1 = qc.cregs[1]\n",
    "    # you fill in the rest...\n",
    "    qc.z(2).c_if(bit_0, 1)\n",
    "    qc.x(2).c_if(bit_1, 0)\n",
    "    \n",
    "    return qc\n",
    "\n",
    "teleport().draw(output='mpl')"
   ]
  },
  {
   "cell_type": "code",
   "execution_count": 23,
   "id": "25d99fab",
   "metadata": {
    "deletable": false,
    "editable": false
   },
   "outputs": [
    {
     "data": {
      "text/html": [
       "<p><strong><pre style='display: inline;'>Task 4A</pre></strong> passed!</p>"
      ],
      "text/plain": [
       "Task 4A results: All test cases passed!"
      ]
     },
     "execution_count": 23,
     "metadata": {},
     "output_type": "execute_result"
    }
   ],
   "source": [
    "grader.check(\"Task 4A\")"
   ]
  },
  {
   "cell_type": "markdown",
   "id": "aa133abe",
   "metadata": {},
   "source": [
    "<!-- BEGIN QUESTION -->\n",
    "\n",
    "#### Task 4B\n",
    "So your circuit passes the tests, but admittedly they are pretty weak. What fun is that? \n",
    "\n",
    "Let's take things a step further.\n",
    "- create a teleportation instance where Bob is `25%` likely to measure the teleported state as $|1\\rangle$\n",
    " - i.e. pass a list of 3 U gate parameters to the `teleport` function\n",
    "- store your measurements in `counts` to interface with the provided code that creates a histogram showing the target ratio"
   ]
  },
  {
   "cell_type": "code",
   "execution_count": 24,
   "id": "37a7f003",
   "metadata": {
    "scrolled": true,
    "tags": []
   },
   "outputs": [
    {
     "data": {
      "image/png": "[encoded data removed]",
      "text/plain": [
       "<Figure size 432x288 with 1 Axes>"
      ]
     },
     "metadata": {
      "needs_background": "light"
     },
     "output_type": "display_data"
    }
   ],
   "source": [
    "u_gate_params= [np.pi/3,0,0]\n",
    "\n",
    "\n",
    "job = execute(teleport(u_gate_params), sim, shots=1024)\n",
    "counts = job.result().get_counts()\n",
    "\n",
    "# no need to touch this...\n",
    "zero = 0\n",
    "one = 0\n",
    "for k, v in counts.items():\n",
    "    if int(k[0]) == 0:\n",
    "        zero += v\n",
    "    else:\n",
    "        one += v \n",
    "\n",
    "y = np.arange(2)\n",
    "plt.bar(y, [zero, one])\n",
    "plt.ylabel(\"Shots\")\n",
    "plt.xticks(y, [\"0XX\", \"1XX\"])\n",
    "plt.title(\"Bob's Observed States\")\n",
    "plt.show()"
   ]
  },
  {
   "cell_type": "markdown",
   "id": "d730befa",
   "metadata": {},
   "source": [
    "<!-- END QUESTION -->\n",
    "\n",
    "That's enough for today :)\n",
    "\n",
    "Next time: quantum games!"
   ]
  },
  {
   "cell_type": "markdown",
   "id": "40496d60",
   "metadata": {
    "deletable": false,
    "editable": false
   },
   "source": [
    "---\n",
    "\n",
    "To double-check your work, the cell below will rerun all of the autograder tests."
   ]
  },
  {
   "cell_type": "code",
   "execution_count": 25,
   "id": "ecab51c4",
   "metadata": {
    "deletable": false,
    "editable": false
   },
   "outputs": [
    {
     "data": {
      "text/plain": [
       "Task 1 results: All test cases passed!\n",
       "\n",
       "Task 2A results: All test cases passed!\n",
       "\n",
       "Task 2B results: All test cases passed!\n",
       "\n",
       "Task 4A results: All test cases passed!"
      ]
     },
     "execution_count": 25,
     "metadata": {},
     "output_type": "execute_result"
    }
   ],
   "source": [
    "grader.check_all()"
   ]
  },
  {
   "cell_type": "markdown",
   "id": "2a789ec6",
   "metadata": {
    "deletable": false,
    "editable": false
   },
   "source": [
    "## Submission\n",
    "\n",
    "Make sure you have run all cells in your notebook in order before running the cell below, so that all images/graphs appear in the output. The cell below will generate a zip file for you to submit. **Please save before exporting!**"
   ]
  },
  {
   "cell_type": "code",
   "execution_count": 26,
   "id": "1aeb7eb5",
   "metadata": {
    "deletable": false,
    "editable": false
   },
   "outputs": [
    {
     "data": {
      "text/html": [
       "\n",
       "            <p>Your submission has been exported. Click <a href=\"q3_2022_02_28T10_25_57_166262.zip\" download=\"q3_2022_02_28T10_25_57_166262.zip\" target=\"_blank\">here</a>\n",
       "            to download the zip file.</p>\n",
       "            "
      ],
      "text/plain": [
       "<IPython.core.display.HTML object>"
      ]
     },
     "metadata": {},
     "output_type": "display_data"
    }
   ],
   "source": [
    "# Save your notebook first, then run this cell to export your submission.\n",
    "grader.export(pdf=False)"
   ]
  },
  {
   "cell_type": "markdown",
   "id": "458cd377",
   "metadata": {},
   "source": [
    " "
   ]
  }
 ],
 "metadata": {
  "kernelspec": {
   "display_name": "Python 3",
   "language": "python",
   "name": "python3"
  },
  "language_info": {
   "codemirror_mode": {
    "name": "ipython",
    "version": 3
   },
   "file_extension": ".py",
   "mimetype": "text/x-python",
   "name": "python",
   "nbconvert_exporter": "python",
   "pygments_lexer": "ipython3",
   "version": "3.7.0"
  },
  "otter": {
   "tests": {
    "Task 1": {
     "name": "Task 1",
     "points": 10,
     "suites": [
      {
       "cases": [
        {
         "code": ">>> def testGates1():\n...     ops = len(endianness()[0].count_ops()) == 2\n...     h = endianness()[0].count_ops()['h'] == 1\n...     x = endianness()[0].count_ops()['x'] == 1\n...     i = 'initialize' not in endianness()[0].count_ops()\n...     return ops and h and x\n>>> \n>>> def testSv1():\n...     return endianness()[1].equiv(Statevector([0,1/np.sqrt(2),0,1/np.sqrt(2)]))\n>>> \n>>> testSv1() and testGates1()\nTrue",
         "failure_message": "Solution is incorrect.",
         "hidden": false,
         "locked": false,
         "points": 10
        }
       ],
       "scored": true,
       "setup": "",
       "teardown": "",
       "type": "doctest"
      }
     ]
    },
    "Task 2A": {
     "name": "Task 2A",
     "points": 15,
     "suites": [
      {
       "cases": [
        {
         "code": ">>> def testMeasurements_2a():\n...     ops = multi_qubit_a().count_ops()\n...     return 'measure' in ops and ops['measure'] == 2\n...     \n>>> testMeasurements_2a()\nTrue",
         "failure_message": "Measurements not measured.",
         "hidden": false,
         "locked": false,
         "points": 1
        },
        {
         "code": ">>> def testNoInitializations_2a():\n...     ops = multi_qubit_a().count_ops()\n...     return not 'initialize' in ops\n>>> \n>>> def testAmplitudes_2a():\n...     qc = multi_qubit_a()\n...     qc.remove_final_measurements()\n...     ket = Statevector.from_instruction(qc).reverse_qargs()\n...     return Statevector([-1j/2, 1/2, -1/2, -1j/2]).equiv(ket)\n>>> \n>>> testAmplitudes_2a() and testNoInitializations_2a()\nTrue",
         "failure_message": "Solution is incorrect.",
         "hidden": false,
         "locked": false,
         "points": 14
        }
       ],
       "scored": true,
       "setup": "",
       "teardown": "",
       "type": "doctest"
      }
     ]
    },
    "Task 2B": {
     "name": "Task 2B",
     "points": 15,
     "suites": [
      {
       "cases": [
        {
         "code": ">>> def testMeasurements_2b():\n...     ops = multi_qubit_b().count_ops()\n...     return 'measure' in ops and ops['measure'] == 2\n>>> \n>>> testMeasurements_2b()\nTrue",
         "failure_message": "Measurements not measured.",
         "hidden": false,
         "locked": false,
         "points": 1
        },
        {
         "code": ">>> def testNoInitializations_2b():\n...     ops = multi_qubit_b().count_ops()\n...     return not 'initialize' in ops\n>>> \n>>> def testAmplitudes_2b():\n...     qc = multi_qubit_b()\n...     qc.remove_final_measurements()\n...     ket = Statevector.from_instruction(qc).reverse_qargs()\n...     return Statevector([1/(2**(.5)), 0, 0, -1/(2**(.5))]).equiv(ket)\n>>> \n>>> testAmplitudes_2b() and testNoInitializations_2b()\nTrue",
         "failure_message": "Solution is incorrect.",
         "hidden": false,
         "locked": false,
         "points": 14
        }
       ],
       "scored": true,
       "setup": "",
       "teardown": "",
       "type": "doctest"
      }
     ]
    },
    "Task 4A": {
     "name": "Task 4A",
     "points": 10,
     "suites": [
      {
       "cases": [
        {
         "code": ">>> def testKet0():\n...     sim = BasicAer.get_backend(\"qasm_simulator\")\n...     qc = teleport()\n...     job = execute(qc, sim)\n...     counts = job.result().get_counts()\n...     zero = 0\n...     for k, v in counts.items():\n...         if int(k[0]) == 0:\n...             zero += v\n...     return zero == 1024\n>>> \n>>> testKet0()\nTrue",
         "failure_message": "Solution fails for |0>",
         "hidden": false,
         "locked": false,
         "points": 3
        },
        {
         "code": ">>> def testKet1():\n...     sim = BasicAer.get_backend(\"qasm_simulator\")\n...     qc = teleport(u_gate_params=[np.pi,0,np.pi])\n...     job = execute(qc, sim)\n...     counts = job.result().get_counts()\n...     one = 0\n...     for k, v in counts.items():\n...         if int(k[0]) == 1:\n...             one += v\n...     return one == 1024\n>>> \n>>> testKet1()\nTrue",
         "failure_message": "Solution fails for |1>",
         "hidden": false,
         "locked": false,
         "points": 3
        },
        {
         "code": ">>> def testRandomParams():\n...     sim = BasicAer.get_backend(\"qasm_simulator\")\n...     qc = teleport(u_gate_params=[131*np.pi/240,247*np.pi/332,347*np.pi/468])\n...     job = execute(qc, sim, shots=10000)\n...     counts = job.result().get_counts()\n...     zero = 0\n...     for k, v in counts.items():\n...         zero += v if int(k[0]) == 0 else 0\n...     return zero > 3850 and zero < 4600\n>>> \n>>> testRandomParams()\nTrue",
         "failure_message": "Solution fails for a more complex state",
         "hidden": false,
         "locked": false,
         "points": 4
        }
       ],
       "scored": true,
       "setup": "",
       "teardown": "",
       "type": "doctest"
      }
     ]
    }
   }
  }
 },
 "nbformat": 4,
 "nbformat_minor": 5
}
