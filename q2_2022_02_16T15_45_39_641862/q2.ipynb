{
 "cells": [
  {
   "cell_type": "code",
   "execution_count": 1,
   "id": "eb09829f",
   "metadata": {
    "deletable": false,
    "editable": false
   },
   "outputs": [],
   "source": [
    "# Initialize Otter\n",
    "import otter\n",
    "grader = otter.Notebook(\"q2.ipynb\")"
   ]
  },
  {
   "cell_type": "markdown",
   "id": "ce5f3434",
   "metadata": {},
   "source": [
    "# Qiskit Assignment 2\n",
    "\n",
    "## Elitzur-Vaidman Bomb\n",
    "\n",
    "### Learning Objectives\n",
    "1. Implement the EV Bomb experiment\n",
    "2. Run the experiment on an IBM quantum computer\n",
    "\n",
    "### Resources\n",
    "Qiskit assignments are designed to be collaborative and open internet. Where possible, links to useful documentation will be embedded within questions. You're free to discuss these tasks with TAs and peers, but do write your own solutions. For some questions, there may be additional restrictions on the ways you can solve them. To ensure compliance with course policies and assignment instructions, we reserve the right to inspect your code."
   ]
  },
  {
   "cell_type": "markdown",
   "id": "8b357047",
   "metadata": {},
   "source": [
    "**NAME**: Ermu Lu\n",
    "\n",
    "**STUDENT ID**: 502043"
   ]
  },
  {
   "cell_type": "code",
   "execution_count": 2,
   "id": "7412d814",
   "metadata": {},
   "outputs": [],
   "source": [
    "from qiskit import *\n",
    "from qiskit.quantum_info import Statevector, Operator\n",
    "from qiskit.visualization import plot_histogram\n",
    "import random\n",
    "import numpy as np\n",
    "import math\n",
    "import matplotlib.pyplot as plt\n",
    "import re"
   ]
  },
  {
   "cell_type": "markdown",
   "id": "2c78fa90",
   "metadata": {},
   "source": [
    "#### Task 1 - Establishing the Required Iterations (10 pts)\n",
    "First let's compute the number of iterations through the loop we need to be arbitrarily confident that there won't be an explosion during our experiment. \n",
    "- write a function `compute_iterations` that takes an input `probability`, *in decimal form*\n",
    "- return `n`, the number of iterations needed to be (`probability`$\\times 100$)% confident that there will **not** be an explosion\n",
    "- round $n$ to the nearest integer "
   ]
  },
  {
   "cell_type": "code",
   "execution_count": 3,
   "id": "77214337",
   "metadata": {
    "tags": []
   },
   "outputs": [],
   "source": [
    "def compute_iterations(probability):\n",
    "    n = (np.pi * np.pi)/(4 * (1 - probability))\n",
    "    return round(n)"
   ]
  },
  {
   "cell_type": "code",
   "execution_count": 4,
   "id": "9369cda2",
   "metadata": {
    "deletable": false,
    "editable": false
   },
   "outputs": [
    {
     "data": {
      "text/html": [
       "<p><strong><pre style='display: inline;'>Task 1</pre></strong> passed!</p>"
      ],
      "text/plain": [
       "Task 1 results: All test cases passed!"
      ]
     },
     "execution_count": 4,
     "metadata": {},
     "output_type": "execute_result"
    }
   ],
   "source": [
    "grader.check(\"Task 1\")"
   ]
  },
  {
   "cell_type": "markdown",
   "id": "39f57fc1",
   "metadata": {},
   "source": [
    "#### Task 2 - Computing Theta (10 pts)\n",
    "We know the number of iterations we need to be arbitrarily confident the bomb won't explode. Now let's calculate the angle we need to rotate through at each step of iteration, $\\theta$. \n",
    "- write a function `compute_theta` that takes `n` as input\n",
    "- return $\\theta$, rounded to the nearest `5` decimal places."
   ]
  },
  {
   "cell_type": "code",
   "execution_count": 5,
   "id": "a142267a",
   "metadata": {
    "tags": []
   },
   "outputs": [],
   "source": [
    "def compute_theta(n):\n",
    "    t = np.pi / n\n",
    "    return round(t, 5)"
   ]
  },
  {
   "cell_type": "code",
   "execution_count": 6,
   "id": "908d2330",
   "metadata": {
    "deletable": false,
    "editable": false
   },
   "outputs": [
    {
     "data": {
      "text/html": [
       "<p><strong><pre style='display: inline;'>Task 2</pre></strong> passed!</p>"
      ],
      "text/plain": [
       "Task 2 results: All test cases passed!"
      ]
     },
     "execution_count": 6,
     "metadata": {},
     "output_type": "execute_result"
    }
   ],
   "source": [
    "grader.check(\"Task 2\")"
   ]
  },
  {
   "cell_type": "markdown",
   "id": "9671bcce",
   "metadata": {},
   "source": [
    "#### Task 3 - Rotation (10 pts)\n",
    "- write a function `rotate` that takes an input QuantumCircuit `qc` and an input `theta`\n",
    "- rotate the state on the first qubit by `theta` radians about the $y$-axis of the Bloch sphere\n",
    "- return the modified circuit"
   ]
  },
  {
   "cell_type": "code",
   "execution_count": 7,
   "id": "ea59c83d",
   "metadata": {
    "tags": []
   },
   "outputs": [],
   "source": [
    "def rotate(qc, theta):\n",
    "    qc.u(theta, 0, 0, 0)\n",
    "    return qc"
   ]
  },
  {
   "cell_type": "code",
   "execution_count": 8,
   "id": "c8d5b882",
   "metadata": {
    "deletable": false,
    "editable": false
   },
   "outputs": [
    {
     "data": {
      "text/html": [
       "<p><strong><pre style='display: inline;'>Task 3</pre></strong> passed!</p>"
      ],
      "text/plain": [
       "Task 3 results: All test cases passed!"
      ]
     },
     "execution_count": 8,
     "metadata": {},
     "output_type": "execute_result"
    }
   ],
   "source": [
    "grader.check(\"Task 3\")"
   ]
  },
  {
   "cell_type": "markdown",
   "id": "0d8f2acc",
   "metadata": {},
   "source": [
    "We provide the below method `bomb_oracle` to randomly decide to include a bomb or not in our experiment."
   ]
  },
  {
   "cell_type": "code",
   "execution_count": 9,
   "id": "0f54ff7f",
   "metadata": {},
   "outputs": [],
   "source": [
    "random.seed(468)\n",
    "\n",
    "def bomb_oracle():\n",
    "    if random.random() < 0.5:\n",
    "        return \"bomb\"\n",
    "    else:\n",
    "        return \"empty\""
   ]
  },
  {
   "cell_type": "markdown",
   "id": "f86559ed",
   "metadata": {},
   "source": [
    "<!-- BEGIN QUESTION -->\n",
    "\n",
    "#### Task 4  - Putting Things Together (40 pts)\n",
    "We are now ready to build the full circuit.\n",
    "- complete the function `gen_circuit` which takes in (1) a probability that the bomb \\*won't\\* explode and (2) a string \"bomb\" or \"empty\"\n",
    "- return a circuit representing the standard EV bomb implementation \n",
    "\n",
    "For our experiment, we will represent the presence of a bomb with a measurement and its absence with an [identity gate](https://qiskit.org/documentation/tutorials/circuits/3_summary_of_quantum_operations.html#Identity-gate). At the end of the circuit, remember to perform a final measurement to the result bit.\n",
    "\n",
    "**Hints**: \n",
    "- use the previous tasks to help build your circuit\n",
    "- make sure to consider both the `bomb` and `empty` cases\n",
    "- in the case of a bomb, perform trial measurements to a distinct `step` bit\n",
    "- refer to the end of the `08` lecture for a description of the implementation"
   ]
  },
  {
   "cell_type": "code",
   "execution_count": 10,
   "id": "9693e7c4",
   "metadata": {
    "tags": []
   },
   "outputs": [],
   "source": [
    "def gen_circuit(probability, bomb):\n",
    "    n = compute_iterations(probability)\n",
    "    qc = QuantumCircuit(QuantumRegister(1,'qr'),\n",
    "           ClassicalRegister(n, 'step'),\n",
    "           ClassicalRegister(1, 'result')  )                \n",
    "    # You fill in the rest!\n",
    "    for i in range(n):\n",
    "        qc.u(np.pi/n, 0, 0, 0)\n",
    "        if bomb == \"bomb\":\n",
    "            qc.id(0)\n",
    "        qc.measure(0, i)\n",
    "    return qc        "
   ]
  },
  {
   "cell_type": "code",
   "execution_count": 11,
   "id": "1dc1c6a2",
   "metadata": {
    "tags": []
   },
   "outputs": [
    {
     "data": {
      "image/png": "[encoded data removed]",
      "text/plain": [
       "<Figure size 1022.62x204.68 with 1 Axes>"
      ]
     },
     "execution_count": 11,
     "metadata": {},
     "output_type": "execute_result"
    }
   ],
   "source": [
    "# Draw a bomb circuit here having probability == 0.5\n",
    "# USE MATPLOTLIB FORMAT\n",
    "t = gen_circuit(0.5, \"bomb\")\n",
    "t.draw(output='mpl')"
   ]
  },
  {
   "cell_type": "code",
   "execution_count": 12,
   "id": "b3ec8f6d",
   "metadata": {
    "tags": []
   },
   "outputs": [
    {
     "data": {
      "image/png": "[encoded data removed]",
      "text/plain": [
       "<Figure size 721.62x204.68 with 1 Axes>"
      ]
     },
     "execution_count": 12,
     "metadata": {},
     "output_type": "execute_result"
    }
   ],
   "source": [
    "# Draw an empty circuit here having probability == 0.5\n",
    "# USE MATPLOTLIB FORMAT\n",
    "t = gen_circuit(0.5, \"empty\")\n",
    "t.draw(output='mpl')"
   ]
  },
  {
   "cell_type": "markdown",
   "id": "6911d5d0",
   "metadata": {},
   "source": [
    "<!-- END QUESTION -->\n",
    "\n",
    "For the next task, run the code below a few times and observe the output. "
   ]
  },
  {
   "cell_type": "code",
   "execution_count": 13,
   "id": "f9b6655a",
   "metadata": {},
   "outputs": [
    {
     "data": {
      "image/png": "[encoded data removed]",
      "text/plain": [
       "<Figure size 432x288 with 1 Axes>"
      ]
     },
     "metadata": {
      "needs_background": "light"
     },
     "output_type": "display_data"
    }
   ],
   "source": [
    "qasm_sim = BasicAer.get_backend(\"qasm_simulator\")\n",
    "\n",
    "def em(qc, shots=1024):\n",
    "    job = execute(qc, qasm_sim, shots=shots)\n",
    "    counts = job.result().get_counts()\n",
    "    return counts\n",
    "\n",
    "def run_circuit(percentage,bomb):\n",
    "    qc = gen_circuit(percentage,\"bomb\")\n",
    "    counts = em(qc)\n",
    "    n = compute_iterations(percentage)\n",
    "    \n",
    "    zeros_key = \"0 \" + \"0\"*n\n",
    "    one_key = \"1 \"+\"0\"*n\n",
    "    \n",
    "    predicted_bomb = 0\n",
    "    predicted_no_bomb = 0\n",
    "    blew_up = 0\n",
    "\n",
    "    if zeros_key in counts:\n",
    "        predicted_bomb = counts[zeros_key]\n",
    "    if one_key in counts:\n",
    "        predicted_no_bomb = counts[one_key]\n",
    "        \n",
    "    blew_up = 1024 - predicted_bomb - predicted_no_bomb\n",
    "    \n",
    "    y = np.arange(3)\n",
    "    plt.bar(y, [predicted_bomb, predicted_no_bomb, blew_up])\n",
    "    plt.ylabel(\"Shots\")\n",
    "    plt.xticks(y, [\"Predicted Bomb\", \"Predicted No Bomb\", \"Blew Up\"])\n",
    "    if bomb == \"bomb\":\n",
    "        plt.title(\"EV Experiment Results with Bomb\")\n",
    "    else:\n",
    "        plt.title(\"EV Experiment Results with No Bomb\")\n",
    "    plt.show()\n",
    "    \n",
    "    return None\n",
    "\n",
    "bomb = bomb_oracle()\n",
    "run_circuit(0.9, \"bomb\")"
   ]
  },
  {
   "cell_type": "markdown",
   "id": "c605a33d",
   "metadata": {},
   "source": [
    "<!-- BEGIN QUESTION -->\n",
    "\n",
    "#### Task 5  - Testing your Circuit (10 pts)\n",
    "- what does measuring $|0\\rangle$ or $|1\\rangle$ each tell us about the the presence or absence of a bomb?\n",
    "- does your circuit blow up a reasonable percentage of the time? (What would be a reasonable percentage?)\n",
    "\n",
    "Be sure to save a chart in your notebook that shows this ratio for a \"bomb\" circuit. Describe it in your response below."
   ]
  },
  {
   "cell_type": "markdown",
   "id": "17fed788",
   "metadata": {},
   "source": [
    "|0⟩ represents absence of a bomb; |1⟩ represents presence of a bomb. Ratio is 9/1."
   ]
  },
  {
   "cell_type": "markdown",
   "id": "d83fe3b6",
   "metadata": {},
   "source": [
    "<!-- END QUESTION -->\n",
    "\n",
    "<!-- BEGIN QUESTION -->\n",
    "\n",
    "#### Task 6 (6A, 6B) - EV Bomb on an IBM Quantum Computer (20 pts)\n",
    "Finally, let's run this circuit on a real quantum computer. Hopefully it doesn't blow up ;)\n",
    "- set the experiment probability to be `0.9`\n",
    "- ensure the presence of a `bomb`\n",
    "- store the measurement results in `counts`\n",
    "\n",
    "**Note**: Do **not** use the ibmq_armonk backend for this task."
   ]
  },
  {
   "cell_type": "code",
   "execution_count": 14,
   "id": "c1b9a889",
   "metadata": {
    "tags": []
   },
   "outputs": [
    {
     "data": {
      "image/png": "[encoded data removed]",
      "text/plain": [
       "<Figure size 432x288 with 1 Axes>"
      ]
     },
     "metadata": {
      "needs_background": "light"
     },
     "output_type": "display_data"
    }
   ],
   "source": [
    "# run your circuit here\n",
    "IBMQ.load_account()\n",
    "provider = IBMQ.get_provider(hub='ibm-q')\n",
    "ibmqc = provider.get_backend('ibmq_quito')\n",
    "job = execute(gen_circuit(0.9, \"bomb\"), ibmqc, shots=1024)\n",
    "counts = job.result().get_counts()\n",
    "\n",
    "\n",
    "# no need to edit any of this code below...\n",
    "n = compute_iterations(.9)\n",
    "zeros_key = \"0 \" + \"0\"*n\n",
    "one_key = \"1 \"+ \"0\"*n\n",
    "\n",
    "predicted_bomb = 0\n",
    "predicted_no_bomb = 0\n",
    "blew_up = 0\n",
    "\n",
    "if zeros_key in counts:\n",
    "    predicted_bomb = counts[zeros_key]\n",
    "if one_key in counts:\n",
    "    predicted_no_bomb = counts[one_key]\n",
    "\n",
    "blew_up = 1024 - predicted_bomb - predicted_no_bomb\n",
    "\n",
    "y = np.arange(3)\n",
    "plt.bar(y, [predicted_bomb, predicted_no_bomb, blew_up])\n",
    "plt.ylabel(\"Shots\")\n",
    "plt.xticks(y, [\"Predicted Bomb\", \"Predicted No Bomb\", \"Blew Up\"])\n",
    "plt.title(\"EV Experiment Results with Bomb\")\n",
    "plt.show()"
   ]
  },
  {
   "cell_type": "markdown",
   "id": "e4d212a8",
   "metadata": {},
   "source": [
    "<!-- END QUESTION -->\n",
    "\n",
    "<!-- BEGIN QUESTION -->\n",
    "\n",
    "Did your circuit blow up a reasonable percentage of the time on the quantum computer? Save a chart in your notebook that shows this ratio and describe it in your response below. Was there any difference between the simulator and quantum computer results? If there was, what might account for it?"
   ]
  },
  {
   "cell_type": "markdown",
   "id": "9267b3ed",
   "metadata": {},
   "source": [
    "The ratio is reasonable.There is a difference. The usual noise from gate infidelity and decoherence accounts for it."
   ]
  },
  {
   "cell_type": "markdown",
   "id": "3f44b539",
   "metadata": {},
   "source": [
    "<!-- END QUESTION -->\n",
    "\n",
    "Next time: multi-qubit circuits!"
   ]
  },
  {
   "cell_type": "markdown",
   "id": "bedf528f",
   "metadata": {
    "deletable": false,
    "editable": false
   },
   "source": [
    "---\n",
    "\n",
    "To double-check your work, the cell below will rerun all of the autograder tests."
   ]
  },
  {
   "cell_type": "code",
   "execution_count": 15,
   "id": "196c49a2",
   "metadata": {
    "deletable": false,
    "editable": false
   },
   "outputs": [
    {
     "data": {
      "text/plain": [
       "Task 1 results: All test cases passed!\n",
       "\n",
       "Task 2 results: All test cases passed!\n",
       "\n",
       "Task 3 results: All test cases passed!"
      ]
     },
     "execution_count": 15,
     "metadata": {},
     "output_type": "execute_result"
    }
   ],
   "source": [
    "grader.check_all()"
   ]
  },
  {
   "cell_type": "markdown",
   "id": "8c0b712a",
   "metadata": {
    "deletable": false,
    "editable": false
   },
   "source": [
    "## Submission\n",
    "\n",
    "Make sure you have run all cells in your notebook in order before running the cell below, so that all images/graphs appear in the output. The cell below will generate a zip file for you to submit. **Please save before exporting!**"
   ]
  },
  {
   "cell_type": "code",
   "execution_count": 16,
   "id": "72ad8291",
   "metadata": {
    "deletable": false,
    "editable": false
   },
   "outputs": [
    {
     "data": {
      "text/html": [
       "\n",
       "            <p>Your submission has been exported. Click <a href=\"q2_2022_02_16T15_32_29_259848.zip\" download=\"q2_2022_02_16T15_32_29_259848.zip\" target=\"_blank\">here</a>\n",
       "            to download the zip file.</p>\n",
       "            "
      ],
      "text/plain": [
       "<IPython.core.display.HTML object>"
      ]
     },
     "metadata": {},
     "output_type": "display_data"
    }
   ],
   "source": [
    "# Save your notebook first, then run this cell to export your submission.\n",
    "grader.export(pdf=False)"
   ]
  },
  {
   "cell_type": "markdown",
   "id": "ca36dc0d",
   "metadata": {},
   "source": [
    " "
   ]
  }
 ],
 "metadata": {
  "kernelspec": {
   "display_name": "Python 3",
   "language": "python",
   "name": "python3"
  },
  "language_info": {
   "codemirror_mode": {
    "name": "ipython",
    "version": 3
   },
   "file_extension": ".py",
   "mimetype": "text/x-python",
   "name": "python",
   "nbconvert_exporter": "python",
   "pygments_lexer": "ipython3",
   "version": "3.7.0"
  },
  "otter": {
   "tests": {
    "Task 1": {
     "name": "Task 1",
     "points": 10,
     "suites": [
      {
       "cases": [
        {
         "code": ">>> compute_iterations(0.5) == 5\nTrue",
         "failure_message": "Wrong answer.",
         "hidden": false,
         "locked": false,
         "points": 1
        },
        {
         "code": ">>> compute_iterations(0.99) == 247\nTrue",
         "failure_message": "Wrong answer.",
         "hidden": false,
         "locked": false,
         "points": 1
        },
        {
         "code": ">>> compute_iterations(0.99473) == 468\nTrue",
         "failure_message": "Wrong answer.",
         "hidden": false,
         "locked": false,
         "points": 1
        }
       ],
       "scored": true,
       "setup": "",
       "teardown": "",
       "type": "doctest"
      }
     ]
    },
    "Task 2": {
     "name": "Task 2",
     "points": 10,
     "suites": [
      {
       "cases": [
        {
         "code": ">>> rounding_re = re.compile(r\"^([\\d]{1}).([\\d]{5})$\")\n>>> def testNumDecimalPlaces():\n...     theta = compute_theta(10)\n...     success = True\n...     return False if rounding_re.match(str(theta)) is None else True\n...   \n>>> testNumDecimalPlaces()\nTrue",
         "failure_message": "Wrong number of decimal places.",
         "hidden": false,
         "locked": false,
         "points": 1
        },
        {
         "code": ">>> compute_theta(15) == 0.20944\nTrue",
         "failure_message": "Wrong answer.",
         "hidden": false,
         "locked": false,
         "points": 1
        },
        {
         "code": ">>> compute_theta(25) == 0.12566\nTrue",
         "failure_message": "Wrong answer.",
         "hidden": false,
         "locked": false,
         "points": 1
        }
       ],
       "scored": true,
       "setup": "",
       "teardown": "",
       "type": "doctest"
      }
     ]
    },
    "Task 3": {
     "name": "Task 3",
     "points": 10,
     "suites": [
      {
       "cases": [
        {
         "code": ">>> def testProbabilities1():\n...     qc = QuantumCircuit(1,1)\n...     theta = np.pi\n...     qc_rot = rotate(qc, theta).reverse_bits()\n...     job = execute(qc_rot, BasicAer.get_backend('statevector_simulator'), shots=10)\n...     return list(job.result().get_statevector(qc))\n>>> \n>>> testProbabilities1()  == [0,1]\nTrue",
         "failure_message": "Wrong answer.",
         "hidden": false,
         "locked": false,
         "points": 1
        },
        {
         "code": ">>> def testProbabilities2():\n...     qc = QuantumCircuit(1,1)\n...     theta = np.pi / 2\n...     qc_rot = rotate(qc, theta).reverse_bits()\n...     job = execute(qc_rot, BasicAer.get_backend('statevector_simulator'), shots=10)\n...     return list(job.result().get_statevector(qc))\n>>> \n>>> testProbabilities2() == [1/np.sqrt(2), 1/np.sqrt(2)]\nTrue",
         "failure_message": "Wrong answer.",
         "hidden": false,
         "locked": false,
         "points": 1
        },
        {
         "code": ">>> def testProbabilities3():\n...     qc = QuantumCircuit(1,1)\n...     theta = 2 * np.pi / 3\n...     qc_rot = rotate(qc, theta).reverse_bits()\n...     job = execute(qc_rot, BasicAer.get_backend('statevector_simulator'), shots=10)\n...     return [round(num, 5) for num in job.result().get_statevector().real]\n>>> \n>>> testProbabilities3() == [round(num, 5) for num in [1/2, np.sqrt(3)/2]]\nTrue",
         "failure_message": "Wrong answer.",
         "hidden": false,
         "locked": false,
         "points": 1
        }
       ],
       "scored": true,
       "setup": "",
       "teardown": "",
       "type": "doctest"
      }
     ]
    }
   }
  }
 },
 "nbformat": 4,
 "nbformat_minor": 5
}
